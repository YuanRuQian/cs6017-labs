{
 "cells": [
  {
   "attachments": {},
   "cell_type": "markdown",
   "metadata": {},
   "source": [
    "- Uid: u1428543\n",
    "- Date: May 30, 2023\n",
    "- Class: CS6017\n",
    "\n",
    "# Homework 2\n",
    "\n",
    "## Part 1: A/B Hypothesis Testing"
   ]
  },
  {
   "cell_type": "code",
   "execution_count": null,
   "metadata": {},
   "outputs": [],
   "source": [
    "import scipy.stats as stats\n",
    "\n",
    "clicks_A = 500\n",
    "views_A = 1000\n",
    "clicks_B = 550\n",
    "views_B = 1000\n",
    "\n",
    "\n",
    "def get_p_value_two_proportion_z_value_test(clicks_A, views_A, clicks_B, views_B):\n",
    "    conversion_rate_A = clicks_A / views_A\n",
    "    conversion_rate_B = clicks_B / views_B\n",
    "\n",
    "    pooled_conversion_rate = (clicks_A + clicks_B) / (views_A + views_B)\n",
    "\n",
    "    standard_error = (pooled_conversion_rate * (1 - pooled_conversion_rate) * (1/views_A + 1/views_B)) ** 0.5\n",
    "\n",
    "    z_value = (conversion_rate_B - conversion_rate_A) / standard_error\n",
    "\n",
    "    p_value = 1 - stats.norm.cdf(z_value)\n",
    "\n",
    "    return p_value\n",
    "\n",
    "\n",
    "p_value = get_p_value_two_proportion_z_value_test(\n",
    "    clicks_A, views_A, clicks_B, views_B)\n",
    "\n",
    "print(f\"P-value: {p_value:.4f}\")\n",
    "\n",
    "significance_level_1 = 0.05\n",
    "significance_level_2 = 0.01\n",
    "\n",
    "null_hypothesis = \"The proportion of ad clicks for logo A is equal to the proportion of ad clicks for logo B.\"\n",
    "\n",
    "print(f\"\\nNull Hypothesis: {null_hypothesis}\")\n",
    "\n",
    "def print_conclusion(p_value, significance_level):\n",
    "    if p_value < significance_level:\n",
    "        print(f\"\\nAt the {significance_level*100}% significance level, we reject the null hypothesis. This means that we have enough evidence to conclude that there is a significant difference between the conversion rates of the two logos. The conversion rate of logo B is higher than that of logo A. The observed difference in the data is unlikely to occur by chance alone, assuming the null hypothesis is true.\")\n",
    "    else:\n",
    "        print(f\"\\nAt the {significance_level*100}% significance level, we fail to reject the null hypothesis. This means that we do not have enough evidence to conclude a significant difference between the conversion rates at a higher level of confidence. The observed difference in the data could still occur by chance, given the assumptions of the null hypothesis.\")\n",
    "\n",
    "print_conclusion(p_value, 0.01)\n",
    "\n",
    "print_conclusion(p_value, 0.05)\n"
   ]
  },
  {
   "cell_type": "markdown",
   "metadata": {},
   "source": []
  },
  {
   "cell_type": "code",
   "execution_count": null,
   "metadata": {},
   "outputs": [],
   "source": [
    "print(f\"when b is 560\")\n",
    "\n",
    "p_value = get_p_value_two_proportion_z_value_test(clicks_A, views_A, 560, views_B)\n",
    "\n",
    "print(f\"\\nP-value: {p_value:.4f}\")\n",
    "\n",
    "print_conclusion(p_value, 0.01)\n",
    "\n",
    "print_conclusion(p_value, 0.05)\n"
   ]
  },
  {
   "cell_type": "code",
   "execution_count": null,
   "metadata": {},
   "outputs": [],
   "source": [
    "print(f\"when b is 570\")\n",
    "\n",
    "p_value = get_p_value_two_proportion_z_value_test(\n",
    "    clicks_A, views_A, 570, views_B)\n",
    "\n",
    "print(f\"\\nP-value: {p_value:.4f}\")\n",
    "\n",
    "print_conclusion(p_value, 0.01)\n",
    "\n",
    "print_conclusion(p_value, 0.05)\n"
   ]
  },
  {
   "attachments": {},
   "cell_type": "markdown",
   "metadata": {},
   "source": [
    "If the number of clicks for logo B is increased to 560 or 570 times, we would expect the p-value to decrease compared to the original scenario. A smaller p-value suggests a more significant difference in the conversion rates between logo A and logo B, potentially leading to the rejection of the null hypothesis.\n"
   ]
  },
  {
   "attachments": {},
   "cell_type": "markdown",
   "metadata": {},
   "source": [
    "## Part 2: Regression of real estate data\n",
    "\n",
    "### Task 1: Import the Data"
   ]
  },
  {
   "cell_type": "code",
   "execution_count": null,
   "metadata": {},
   "outputs": [],
   "source": [
    "import pandas as pd\n",
    "\n",
    "df1 = pd.read_csv('realEstate1.csv')\n",
    "\n",
    "df2 = pd.read_csv('realEstate2.csv')\n",
    "\n",
    "df = pd.concat([df1, df2])"
   ]
  },
  {
   "attachments": {},
   "cell_type": "markdown",
   "metadata": {},
   "source": [
    "### Task 2: Clean the Data"
   ]
  },
  {
   "cell_type": "code",
   "execution_count": null,
   "metadata": {},
   "outputs": [],
   "source": [
    "# Only keep houses with List Price between 200,000 and 1,000,000 dollars.\n",
    "\n",
    "df = df[(df['LstPrice'] >= 200000) & (df['LstPrice'] <= 1000000)]\n",
    "\n",
    "relevant_columns = ['Acres', 'Deck', 'GaragCap', 'Latitude', 'Longitude', 'LstPrice', 'Patio',\n",
    "                    'PkgSpacs', 'PropType', 'SoldPrice', 'Taxes', 'TotBed', 'TotBth', 'TotSqf', 'YearBlt']\n",
    "\n",
    "df_relevant = df[relevant_columns].copy()\n",
    "\n",
    "df_relevant['TotSqf'] = df_relevant['TotSqf'].str.replace(',', '').astype(int)\n",
    "\n",
    "df_relevant['Prop_Type_SingleFamily'] = (\n",
    "    df_relevant['PropType'] == 'Single Family').astype(int)\n",
    "\n",
    "df_relevant = df_relevant[df_relevant['Longitude'] != 0].copy()\n",
    "\n",
    "df_relevant = df_relevant[(df_relevant['Taxes'] >= 10)\n",
    "                          & (df_relevant['Taxes'] <= 10000)]\n"
   ]
  },
  {
   "attachments": {},
   "cell_type": "markdown",
   "metadata": {},
   "source": [
    "### Task 3: Exploratory Data Analysis\n",
    "\n"
   ]
  },
  {
   "cell_type": "code",
   "execution_count": null,
   "metadata": {},
   "outputs": [],
   "source": [
    "\n",
    "num_items = len(df_relevant)\n",
    "print(\"Number of houses:\", num_items)\n",
    "\n",
    "num_variables = df_relevant.shape[1]\n",
    "print(\"Number of variables:\", num_variables)\n",
    "\n",
    "print(df_relevant.describe())\n"
   ]
  },
  {
   "cell_type": "code",
   "execution_count": null,
   "metadata": {},
   "outputs": [],
   "source": [
    "import matplotlib.pyplot as plt\n",
    "\n",
    "plt.style.use('ggplot')\n",
    "\n",
    "house_types = df_relevant['PropType'].value_counts()\n",
    "\n",
    "print(house_types)\n",
    "\n",
    "plt.figure(figsize=(10, 6))\n",
    "house_types.plot(kind='bar')\n",
    "plt.title('Breakdown of House Types')\n",
    "plt.xlabel('House Type')\n",
    "plt.ylabel('Count')\n",
    "plt.xticks(rotation=0)\n",
    "plt.show()\n"
   ]
  },
  {
   "cell_type": "code",
   "execution_count": null,
   "metadata": {},
   "outputs": [],
   "source": [
    "import seaborn as sns\n",
    "plt.style.use('ggplot')\n",
    "\n",
    "corr_matrix = df_relevant.corr()\n",
    "\n",
    "plt.figure(figsize=(10, 8))\n",
    "sns.heatmap(corr_matrix, cmap='RdBu_r', annot=True, fmt='.2f', vmin=-1, vmax=1)\n",
    "plt.title('Correlation Matrix')\n",
    "plt.xticks(rotation=45)\n",
    "plt.yticks(rotation=0)\n",
    "plt.show()\n"
   ]
  },
  {
   "cell_type": "code",
   "execution_count": null,
   "metadata": {},
   "outputs": [],
   "source": [
    "plt.style.use('ggplot')\n",
    "\n",
    "subset_columns = ['Acres', 'LstPrice', 'SoldPrice',\n",
    "                  'Taxes', 'TotBed', 'TotBth', 'TotSqf', 'YearBlt']\n",
    "subset_df = df_relevant[subset_columns]\n",
    "\n",
    "sns.set(style=\"ticks\")\n",
    "sns.pairplot(subset_df)\n",
    "plt.show()\n"
   ]
  },
  {
   "attachments": {},
   "cell_type": "markdown",
   "metadata": {},
   "source": [
    "Based on the correlation matrix and the scatter plot matrix, here are some findings:\n",
    "1. Near perfect correlation:\n",
    "  The List Price (LstPrice) and Sold Price have a near-perfect positive correlation, as expected. The List Price serves as a starting point for negotiations that lead to the Sold Price, hence the strong correlation.\n",
    "\n",
    "2. Strong positive correlations:\n",
    "  Total square footage (TotSqf), number of bathrooms (TotBth), and number of bedrooms (TotBed) exhibit strong positive correlations with the Sold Price. As these property attributes increase, the Sold Price tends to increase as well.\n",
    "\n",
    "3. Moderate positive correlations:\n",
    "  Garage capacity (GaragCap) and property size (Acres) show moderate positive correlations with the Sold Price. Properties with larger garage capacities or larger overall sizes tend to have higher Sold Prices.\n",
    "\n",
    "4. Weak positive correlations:\n",
    "  Latitude and longitude have weak positive correlations with the Sold Price. While the correlation coefficients between latitude, longitude, and Sold Price may indicate a relatively weak linear relationship, it is important to note that the association between these variables and house prices is not strictly linear but rather multi-linear or spatially related. The observed concentration of higher sold prices on the north and east sides, as well as the lower sold prices on the west and south sides, suggests a discernible spatial pattern in house prices within Salt Lake City. This pattern indicates that the location of a house is a significant factor in determining its price. Therefore, when analyzing the impact of location on house prices, it is essential to consider latitude and longitude collectively in a multi-linear framework, taking into account their spatial relationship rather than relying solely on their individual correlation coefficients.\n",
    "\n",
    "\n",
    "\n"
   ]
  },
  {
   "attachments": {},
   "cell_type": "markdown",
   "metadata": {},
   "source": [
    "### Task 4: Geospatial Plot"
   ]
  },
  {
   "cell_type": "code",
   "execution_count": null,
   "metadata": {},
   "outputs": [],
   "source": [
    "\n",
    "plt.style.use('ggplot')\n",
    "\n",
    "plt.scatter(df_relevant['Longitude'], df_relevant['Latitude'],\n",
    "            c=df_relevant['SoldPrice'], cmap='coolwarm')\n",
    "plt.colorbar(label='Sold Price')\n",
    "plt.xlabel('Longitude')\n",
    "plt.ylabel('Latitude')\n",
    "plt.title('House Sold Price vs. Location')\n",
    "\n",
    "plt.show()\n"
   ]
  },
  {
   "attachments": {},
   "cell_type": "markdown",
   "metadata": {},
   "source": [
    "The observed concentration of higher sold prices on the north and east sides, as well as the lower sold prices on the west and south sides, suggests a discernible spatial pattern in house prices within Salt Lake City. This pattern indicates that the location of a house is a significant factor in determining its price. Factors like the desirability of neighborhoods, proximity to amenities, access to transportation, and other location-specific characteristics likely contribute to these variations in house prices. "
   ]
  },
  {
   "attachments": {},
   "cell_type": "markdown",
   "metadata": {},
   "source": [
    "### Bonus: If you can, overlay the scatterplot on a map of the city."
   ]
  },
  {
   "cell_type": "code",
   "execution_count": null,
   "metadata": {},
   "outputs": [],
   "source": [
    "\n",
    "\n",
    "from branca.colormap import LinearColormap\n",
    "import folium\n",
    "from folium.plugins import HeatMap\n",
    "\n",
    "average_latitude = df_relevant['Latitude'].mean()\n",
    "average_longitude = df_relevant['Longitude'].mean()\n",
    "\n",
    "# Create a folium map centered around the average latitude & longitude of the data points\n",
    "m = folium.Map(location=[average_latitude, average_longitude], zoom_start=14)\n",
    "\n",
    "colormap = LinearColormap(['blue', 'red'], vmin=df_relevant['SoldPrice'].min(\n",
    "), vmax=df_relevant['SoldPrice'].max())\n",
    "\n",
    "for _, row in df_relevant.iterrows():\n",
    "    folium.CircleMarker([row['Latitude'], row['Longitude']],\n",
    "                        radius=5,\n",
    "                        color='transparent',\n",
    "                        fill_color=colormap(row['SoldPrice']),\n",
    "                        fill_opacity=0.6).add_to(m)\n",
    "\n",
    "colormap.caption = 'Sold Price'\n",
    "colormap.add_to(m)\n",
    "\n",
    "m\n"
   ]
  },
  {
   "attachments": {},
   "cell_type": "markdown",
   "metadata": {},
   "source": [
    "The map is interactive, if it is not rendered on the web, please open the file locally and run the commands."
   ]
  },
  {
   "attachments": {},
   "cell_type": "markdown",
   "metadata": {},
   "source": [
    "### Task 5: Simple Linear Regression"
   ]
  },
  {
   "cell_type": "code",
   "execution_count": null,
   "metadata": {},
   "outputs": [],
   "source": [
    "\n",
    "import statsmodels.api as sm\n",
    "\n",
    "plt.style.use('ggplot')\n",
    "\n",
    "fig, axes = plt.subplots(3, 3, figsize=(12, 12))\n",
    "variables = ['Acres', 'LstPrice', 'SoldPrice',\n",
    "             'Taxes', 'TotBed', 'TotBth', 'TotSqf', 'YearBlt']\n",
    "\n",
    "for i, var in enumerate(variables):\n",
    "    row = i // 3\n",
    "    col = i % 3\n",
    "\n",
    "    X = df_relevant[var]\n",
    "    y = df_relevant['SoldPrice']\n",
    "    X = sm.add_constant(X)\n",
    "    model = sm.OLS(y, X).fit()\n",
    "\n",
    "    axes[row, col].scatter(\n",
    "        df_relevant[var], df_relevant['SoldPrice'], label='Actual Data')\n",
    "    axes[row, col].plot(df_relevant[var], model.fittedvalues,\n",
    "                        color='blue', label='Regression Line')\n",
    "    axes[row, col].set_xlabel(var)\n",
    "    axes[row, col].set_ylabel('Sold Price')\n",
    "    axes[row, col].set_title(f'{var} vs. Sold Price')\n",
    "    axes[row, col].legend()\n",
    "\n",
    "# Format x/y-axis labels ( remove \"1e6\")\n",
    "for ax in axes.flat:\n",
    "    ax.get_yaxis().set_major_formatter(\n",
    "        plt.FuncFormatter(lambda x, loc: \"{:,}\".format(int(x))))\n",
    "    ax.get_xaxis().set_major_formatter(\n",
    "        plt.FuncFormatter(lambda x, loc: \"{:,}\".format(int(x))))\n",
    "\n",
    "# Hide empty subplots\n",
    "if len(variables) < 9:\n",
    "    for i in range(len(variables), 9):\n",
    "        row = i // 3\n",
    "        col = i % 3\n",
    "        fig.delaxes(axes[row, col])\n",
    "\n",
    "plt.tight_layout()\n",
    "plt.show()\n"
   ]
  },
  {
   "attachments": {},
   "cell_type": "markdown",
   "metadata": {},
   "source": [
    "As shown in the plots generated above, the variable \"List Price\" appears to be a strong predictor of the Sold Price. The regression line closely aligns with the actual data points, indicating a strong linear relationship between the List Price and Sold Price. "
   ]
  },
  {
   "cell_type": "code",
   "execution_count": null,
   "metadata": {},
   "outputs": [],
   "source": [
    "plt.style.use('ggplot')\n",
    "\n",
    "X = df_relevant['LstPrice']\n",
    "y = df_relevant['SoldPrice']\n",
    "X = sm.add_constant(X)\n",
    "model = sm.OLS(y, X).fit()\n",
    "\n",
    "r_squared = model.rsquared\n",
    "print(\"R-squared value:\", r_squared)\n",
    "\n",
    "print(\"\\nInterpretation of R-squared:\")\n",
    "print(\"\\nThe R-squared value of\", r_squared, \"indicates that about\",\n",
    "      r_squared * 100, \"% of the variation in the Sold Price can be explained by the List Price.\")\n",
    "\n",
    "plt.scatter(df_relevant['LstPrice'],\n",
    "            df_relevant['SoldPrice'], label='Actual Data')\n",
    "\n",
    "plt.plot(df_relevant['LstPrice'], model.fittedvalues,\n",
    "         color='blue', label='Regression Line')\n",
    "\n",
    "plt.xlabel('List Price')\n",
    "plt.ylabel('Sold Price')\n",
    "plt.title('List Price vs. Sold Price with Regression Line')\n",
    "plt.legend()\n",
    "plt.show()\n"
   ]
  },
  {
   "attachments": {},
   "cell_type": "markdown",
   "metadata": {},
   "source": [
    "### Task 6: Multilinear Regression"
   ]
  },
  {
   "cell_type": "code",
   "execution_count": null,
   "metadata": {},
   "outputs": [],
   "source": [
    "\n",
    "\n",
    "predictors = ['Acres', 'Taxes', 'TotBed',\n",
    "              'TotBth', 'TotSqf', 'GaragCap', 'Latitude', 'Longitude']\n",
    "\n",
    "X = df_relevant[predictors]\n",
    "y = df_relevant['SoldPrice']\n",
    "\n",
    "X = sm.add_constant(X)\n",
    "\n",
    "model = sm.OLS(y, X).fit()\n",
    "\n",
    "print(model.summary())\n"
   ]
  },
  {
   "attachments": {},
   "cell_type": "markdown",
   "metadata": {},
   "source": [
    "\n",
    "\n",
    "1. Which variables are the best predictors for the Sold Price?\n",
    "   Based on the provided model, the variables Taxes, TotSqf, GaragCap and Longitude appear to be the best predictors for the Sold Price. These variables show both statistical significance (as indicated by low p-values) and meaningful impact (reflected in their coefficient magnitudes) on the SoldPrice.\n",
    "\n",
    "2. Is the coefficient for TotSqf measuring the price per square foot?\n",
    "   No, the coefficient for TotSqf does not directly represent the price per square foot. Instead, it represents the estimated change in the Sold Price for each unit increase in the Total Square Footage of a house while holding other variables constant. In this case, for every unit increase in TotSqf, the Sold Price is expected to increase by approximately $45, assuming all other variables in the model remain constant.\n",
    "\n",
    "3. Estimating the value that each Garage space adds to a house.\n",
    "   The coefficient for GaragCap indicates that each additional Garage space adds an estimated value of approximately $20,460 to the house, assuming all other variables in the model remain constant.\n",
    "\n",
    "4. Impact of latitude and longitude on house price.\n",
    "   - The coefficient for Latitude has a p-value of 0.192, which is greater than 0.05. Therefore, Latitude is not statistically significant at the conventional significance level of 0.05. We cannot conclude with confidence that Latitude has a significant impact on house prices based on this model.\n",
    "   - On the other hand, the coefficient for Longitude has a p-value of 0.000, which is less than 0.05. This indicates that Longitude is statistically significant, and we can conclude that it has a significant impact on house prices based on this model. The positive coefficient suggests that an increase in Longitude is associated with an increase in the Sold Price.\n",
    "\n",
    "5. Comparison of model's predictive capability to list price for a house flipping company"
   ]
  },
  {
   "cell_type": "code",
   "execution_count": null,
   "metadata": {},
   "outputs": [],
   "source": [
    "\n",
    "import numpy as np\n",
    "\n",
    "# List Price Model\n",
    "X_list = df_relevant['LstPrice']\n",
    "y_list = df_relevant['SoldPrice']\n",
    "X_list = sm.add_constant(X_list)\n",
    "model_list = sm.OLS(y_list, X_list).fit()\n",
    "y_list_pred = model_list.predict(X_list)\n",
    "\n",
    "mse_list = np.mean((y_list_pred - y_list) ** 2)\n",
    "rmse_list = np.sqrt(mse_list)\n",
    "mae_list = np.mean(np.abs(y_list_pred - y_list))\n",
    "\n",
    "# Multilinear Regression Model\n",
    "predictors = ['Acres', 'Taxes', 'TotBed', 'TotBth',\n",
    "              'TotSqf', 'GaragCap', 'Latitude', 'Longitude']\n",
    "X_multi = df_relevant[predictors]\n",
    "y_multi = df_relevant['SoldPrice']\n",
    "X_multi = sm.add_constant(X_multi)\n",
    "model_multi = sm.OLS(y_multi, X_multi).fit()\n",
    "y_multi_pred = model_multi.predict(X_multi)\n",
    "\n",
    "mse_multi = np.mean((y_multi_pred - y_multi) ** 2)\n",
    "rmse_multi = np.sqrt(mse_multi)\n",
    "mae_multi = np.mean(np.abs(y_multi_pred - y_multi))\n",
    "\n",
    "print(\"List Price Model:\")\n",
    "print(\"MSE:\", mse_list)\n",
    "print(\"RMSE:\", rmse_list)\n",
    "print(\"MAE:\", mae_list)\n",
    "print(\"\\nMultilinear Regression Model:\")\n",
    "print(\"MSE:\", mse_multi)\n",
    "print(\"RMSE:\", rmse_multi)\n",
    "print(\"MAE:\", mae_multi)\n"
   ]
  },
  {
   "attachments": {},
   "cell_type": "markdown",
   "metadata": {},
   "source": [
    "The list price model has significantly lower values for MSE, RMSE, and MAE, indicating that it provides better predictions for the sold price compared to the multilinear regression model. Therefore, if you wanted to start a house flipping company, using the list price model would likely result in more accurate price predictions, leading to better decision-making and potentially higher profitability."
   ]
  },
  {
   "attachments": {},
   "cell_type": "markdown",
   "metadata": {},
   "source": [
    "## Task 7: Incorporating a Categorical Variable"
   ]
  },
  {
   "cell_type": "code",
   "execution_count": null,
   "metadata": {},
   "outputs": [],
   "source": [
    "\n",
    "plt.style.use('ggplot')\n",
    "\n",
    "# Model 1: SoldPrice = beta_0 + beta_1 * Prop_Type_SingleFamily\n",
    "X1 = df_relevant[['Prop_Type_SingleFamily']]\n",
    "X1 = sm.add_constant(X1)\n",
    "y = df_relevant['SoldPrice']\n",
    "model1 = sm.OLS(y, X1).fit()\n",
    "\n",
    "print(\"\\nModel 1: SoldPrice = beta_0 + beta_1 * Prop_Type_SingleFamily\")\n",
    "print(model1.summary())"
   ]
  },
  {
   "cell_type": "code",
   "execution_count": null,
   "metadata": {},
   "outputs": [],
   "source": [
    "# Model 2: SoldPrice = beta_0 + beta_1 * Prop_Type_SingleFamily + beta_2 * TotSqf\n",
    "X2 = df_relevant[['Prop_Type_SingleFamily', 'TotSqf']]\n",
    "X2 = sm.add_constant(X2)\n",
    "model2 = sm.OLS(y, X2).fit()\n",
    "\n",
    "print(\"\\nModel 2: SoldPrice = beta_0 + beta_1 * Prop_Type_SingleFamily + beta_2 * TotSqf\")\n",
    "print(model2.summary())\n"
   ]
  },
  {
   "cell_type": "code",
   "execution_count": null,
   "metadata": {},
   "outputs": [],
   "source": [
    "def plot_scatter(predictions, actual, modelName, ax):\n",
    "    ax.scatter(predictions, actual)\n",
    "    ax.plot(actual, actual, color='blue')\n",
    "    ax.set_xlabel('Predicted Sold Price')\n",
    "    ax.set_ylabel('Actual Sold Price')\n",
    "    ax.set_title(modelName)\n",
    "    ax.ticklabel_format(style='plain')\n",
    "\n",
    "\n",
    "actual_sold_price = df_relevant['SoldPrice']\n",
    "\n",
    "predicted_sold_price_model1 = model1.predict(X1)\n",
    "\n",
    "predicted_sold_price_model2 = model2.predict(X2)\n",
    "\n",
    "fig, axes = plt.subplots(1, 2, figsize=(16, 6))\n",
    "\n",
    "plot_scatter(predicted_sold_price_model1, actual_sold_price,\n",
    "             'Model 1:\\nSoldPrice = beta_0 + beta_1 * Prop_Type_SingleFamily', axes[0])\n",
    "\n",
    "plot_scatter(predicted_sold_price_model2, actual_sold_price,\n",
    "             'Model 2:\\nSoldPrice = beta_0 + beta_1 * Prop_Type_SingleFamily + beta_2 * TotSqf', axes[1])\n",
    "\n",
    "plt.tight_layout()\n",
    "plt.show()"
   ]
  },
  {
   "attachments": {},
   "cell_type": "markdown",
   "metadata": {},
   "source": [
    "From the OLS regression results of the first model, we can see that the coefficient for the `Prop_Type_SingleFamily` variable is statistically significant (p = 0 < 0.05), indicating that it has a significant impact on predicting the sold price. The R-squared value for the model is 0.159, suggesting that the `Prop_Type_SingleFamily` variable explains about 15.9% of the variation in the sold price.\n",
    "\n",
    "On the other hand, the second model includes an additional variable, `TotSqf`, which represents the total square footage of the property. In this model, both the `Prop_Type_SingleFamily` and `TotSqf` variables are included. The coefficient for `Prop_Type_SingleFamily` is no longer statistically significant ( p = 0.415 > 0.05 ), indicating that when we take into account the total square footage, the property type becomes less predictive of the sold price. However, the `TotSqf` variable has a p-value of 0 and a significant coefficient ( 12,650 ), indicating that it has a strong impact on predicting the sold price. The R-squared value for the second model is higher at 0.740, suggesting that the combined effect of `Prop_Type_SingleFamily` and `TotSqf` explains about 74% of the variation in the sold price.\n",
    "\n",
    "The reason for this change in significance is likely due to confounding between the property type and total square footage. The property type may have a correlation with the total square footage, meaning that the effect of the property type on the sold price is partially explained by the variation in total square footage. When we include the `TotSqf` variable in the model, it captures the variation in sold price associated with the total square footage, thereby reducing the influence of the property type.\n"
   ]
  },
  {
   "cell_type": "code",
   "execution_count": null,
   "metadata": {},
   "outputs": [],
   "source": [
    "from matplotlib.colors import ListedColormap\n",
    "\n",
    "\n",
    "property_type = df_relevant['PropType']\n",
    "total_sqft = df_relevant['TotSqf']\n",
    "sold_price = df_relevant['SoldPrice']\n",
    "\n",
    "unique_house_types = property_type.unique()\n",
    "\n",
    "property_type_mapping = {\n",
    "    unique_house_types[0]: 1,\n",
    "    unique_house_types[1]: 2,\n",
    "    unique_house_types[2]: 3,\n",
    "}\n",
    "\n",
    "property_type_numeric = property_type.map(property_type_mapping)\n",
    "\n",
    "colors = ['red', 'blue', 'green']\n",
    "\n",
    "fig, ax = plt.subplots(figsize=(10, 6))\n",
    "\n",
    "scatter = ax.scatter(total_sqft, sold_price,\n",
    "                     c=property_type_numeric, cmap=ListedColormap(colors))\n",
    "ax.set_xlabel('Total Sqft')\n",
    "ax.set_ylabel('Sold Price')\n",
    "\n",
    "legend_elements = []\n",
    "for house_type, color in zip(unique_house_types, colors):\n",
    "    legend_elements.append(plt.Line2D(\n",
    "        [0], [0], marker='o', color='w', markerfacecolor=color, label=house_type))\n",
    "\n",
    "ax.legend(handles=legend_elements)\n",
    "\n",
    "ax.ticklabel_format(style='plain')\n",
    "\n",
    "plt.title('Scatterplot of TotSqf vs. SoldPrice with Property Type')\n",
    "plt.show()\n"
   ]
  },
  {
   "attachments": {},
   "cell_type": "markdown",
   "metadata": {},
   "source": [
    "From the scatterplot, we can observe the following patterns:\n",
    "\n",
    "1. Condos: Condos are generally priced lower and have smaller total square footage, typically ranging from 200k to 500k and with total square footage mostly under 2500 square feet.\n",
    "\n",
    "2. Townhouses: Townhouses fall within a higher price range compared to condos but lower than single-family houses, typically ranging from 300k to 600k. They have a slightly larger total square footage, typically ranging from 1500 to 3000 square feet.\n",
    "\n",
    "3. Single Family Houses: Single-family houses have a wider range of prices, ranging from 200k to 1000k. They also have the widest range of total square footage, ranging from 1000 to 7000+ square feet. Additionally, we observe a plateau or slight drop in prices after a certain square footage, suggesting diminishing marginal returns.\n",
    "\n",
    "The total square footage acts as a confounder because it influences both the property type and the sold price. By including total square footage in the model, we account for this confounding variable and find that property type alone is no longer a significant predictor. Total square footage becomes a stronger predictor of sold price because it captures the size and space of the property, which is an essential factor considered by buyers.\n"
   ]
  }
 ],
 "metadata": {
  "kernelspec": {
   "display_name": "Python 3",
   "language": "python",
   "name": "python3"
  },
  "language_info": {
   "codemirror_mode": {
    "name": "ipython",
    "version": 3
   },
   "file_extension": ".py",
   "mimetype": "text/x-python",
   "name": "python",
   "nbconvert_exporter": "python",
   "pygments_lexer": "ipython3",
   "version": "3.10.6"
  },
  "orig_nbformat": 4
 },
 "nbformat": 4,
 "nbformat_minor": 2
}
